{
 "cells": [
  {
   "cell_type": "code",
   "execution_count": 12,
   "id": "92332f74",
   "metadata": {
    "scrolled": true
   },
   "outputs": [],
   "source": [
    "import pandas as pd\n",
    "def converter(entrada):\n",
    "\n",
    "    # carregando Planilha com as colunas tipo str por causa do CPF\n",
    "    header = pd.read_excel(f'entrada/{entrada}.xlsx', dtype=str)\n",
    "\n",
    "    # dropando coluna \"Carimbo de data/hora\" gerada pelo forms\n",
    "    header = header.drop(columns=\"Carimbo de data/hora\")\n",
    "    display(header)\n",
    "\n",
    "    # ¥ £ simbolos de separação de campos e final de linha\n",
    "\n",
    "    # exportando arquivo csv removendo indeces e cabeçalho\n",
    "    header.to_csv(f'csv/{entrada}.csv', sep='¥', line_terminator='¥£', index=False, header=False)\n",
    "\n",
    "    # carregando .csv com o formato siadis o título da coluna é todo o arquivo \n",
    "    header_siadis = pd.read_csv(f'csv/{entrada}.csv')\n",
    "\n",
    "    # pegando o título da coluna que é do tipo <class 'numpy.ndarray'>\n",
    "    text = header_siadis.columns.values\n",
    "    # print(text)\n",
    "    # print(type(text))\n",
    "\n",
    "    # pegando o conteúdo do array\n",
    "    text = text.item()\n",
    "    # print(text)\n",
    "\n",
    "    with open(f'saida/{entrada}.siadis', 'w', encoding='iso-8859-1') as file:\n",
    "        print(file)\n",
    "        file.write(text)\n",
    "        \n",
    "    with open(f'saida/{entrada}.txt', 'w') as file:\n",
    "        file.write(text)\n",
    "\n",
    "    with open(f'saida/{entrada}.siadis', 'r') as ler:\n",
    "        print(ler.read())\n"
   ]
  },
  {
   "cell_type": "code",
   "execution_count": 13,
   "id": "35b316c9",
   "metadata": {},
   "outputs": [
    {
     "data": {
      "text/html": [
       "<div>\n",
       "<style scoped>\n",
       "    .dataframe tbody tr th:only-of-type {\n",
       "        vertical-align: middle;\n",
       "    }\n",
       "\n",
       "    .dataframe tbody tr th {\n",
       "        vertical-align: top;\n",
       "    }\n",
       "\n",
       "    .dataframe thead th {\n",
       "        text-align: right;\n",
       "    }\n",
       "</style>\n",
       "<table border=\"1\" class=\"dataframe\">\n",
       "  <thead>\n",
       "    <tr style=\"text-align: right;\">\n",
       "      <th></th>\n",
       "      <th>Identificador da linha</th>\n",
       "      <th>Tipo do Arquivo</th>\n",
       "      <th>Sequencial que identifica o número do arquivo</th>\n",
       "      <th>Código do órgão implantador</th>\n",
       "      <th>Código da UASG</th>\n",
       "      <th>CPF do usuário que gerou o arquivo</th>\n",
       "    </tr>\n",
       "  </thead>\n",
       "  <tbody>\n",
       "    <tr>\n",
       "      <th>0</th>\n",
       "      <td>H</td>\n",
       "      <td>UO</td>\n",
       "      <td>113</td>\n",
       "      <td>12345</td>\n",
       "      <td>321654</td>\n",
       "      <td>12345678910</td>\n",
       "    </tr>\n",
       "    <tr>\n",
       "      <th>1</th>\n",
       "      <td>H</td>\n",
       "      <td>UO</td>\n",
       "      <td>123</td>\n",
       "      <td>12345</td>\n",
       "      <td>123456</td>\n",
       "      <td>07869199494</td>\n",
       "    </tr>\n",
       "  </tbody>\n",
       "</table>\n",
       "</div>"
      ],
      "text/plain": [
       "  Identificador da linha Tipo do Arquivo  \\\n",
       "0                      H              UO   \n",
       "1                      H              UO   \n",
       "\n",
       "  Sequencial que identifica o número do arquivo  Código do órgão implantador  \\\n",
       "0                                            113                       12345   \n",
       "1                                            123                       12345   \n",
       "\n",
       "  Código da UASG CPF do usuário que gerou o arquivo  \n",
       "0         321654                        12345678910  \n",
       "1         123456                        07869199494  "
      ]
     },
     "metadata": {},
     "output_type": "display_data"
    },
    {
     "name": "stdout",
     "output_type": "stream",
     "text": [
      "<_io.TextIOWrapper name='saida/header.siadis' mode='w' encoding='iso-8859-1'>\n",
      "H¥UO¥113¥12345¥321654¥12345678910¥£H¥UO¥123¥12345¥123456¥07869199494¥£\n"
     ]
    }
   ],
   "source": [
    "converter('header')"
   ]
  },
  {
   "cell_type": "code",
   "execution_count": null,
   "id": "d4772efa",
   "metadata": {},
   "outputs": [],
   "source": []
  }
 ],
 "metadata": {
  "kernelspec": {
   "display_name": "Python 3",
   "language": "python",
   "name": "python3"
  },
  "language_info": {
   "codemirror_mode": {
    "name": "ipython",
    "version": 3
   },
   "file_extension": ".py",
   "mimetype": "text/x-python",
   "name": "python",
   "nbconvert_exporter": "python",
   "pygments_lexer": "ipython3",
   "version": "3.8.8"
  }
 },
 "nbformat": 4,
 "nbformat_minor": 5
}
